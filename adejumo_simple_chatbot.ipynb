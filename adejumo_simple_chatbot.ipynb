{
  "nbformat": 4,
  "nbformat_minor": 0,
  "metadata": {
    "colab": {
      "provenance": []
    },
    "kernelspec": {
      "name": "python3",
      "display_name": "Python 3"
    },
    "language_info": {
      "name": "python"
    }
  },
  "cells": [
    {
      "cell_type": "code",
      "execution_count": 1,
      "metadata": {
        "id": "3ORCUIcb5mVm"
      },
      "outputs": [],
      "source": [
        "# Predefined responses dictionary\n",
        "responses = {\n",
        "    \"hi\": \"Hello! How can I assist you?\",\n",
        "    \"hello\": \"Hi! How can I help you?\",\n",
        "    \"how are you\": \"I'm just a chatbot, but I'm doing great!\",\n",
        "    \"what is python\": \"Python is a programming language used for various applications.\",\n",
        "    \"where are you learning data science\": \"Sail Innovation Lab\",\n",
        "    \"what programming language are you learning?\": \"Python\",\n",
        "    \"bye\": \"Goodbye! Have a great day!\"\n",
        "}\n"
      ]
    },
    {
      "cell_type": "code",
      "source": [
        "# Infinite loop for continuous interaction\n",
        "while True:\n",
        "    user_input = input(\"You: \").lower().strip()\n",
        "\n",
        "    if user_input in responses:\n",
        "        print(f\"Chatbot: {responses[user_input]}\")\n",
        "        if user_input == \"bye\":\n",
        "            break\n",
        "    else:\n",
        "        print(\"Chatbot: I'm sorry, I don't understand that.\")\n"
      ],
      "metadata": {
        "colab": {
          "base_uri": "https://localhost:8080/"
        },
        "id": "mFEC1D5c5xMm",
        "outputId": "3988caeb-6009-4b75-d579-d2e99006116c"
      },
      "execution_count": null,
      "outputs": [
        {
          "output_type": "stream",
          "name": "stdout",
          "text": [
            "You: hello\n",
            "Chatbot: Hi! How can I help you?\n",
            "You: today's date\n",
            "Chatbot: I'm sorry, I don't understand that.\n"
          ]
        }
      ]
    }
  ]
}